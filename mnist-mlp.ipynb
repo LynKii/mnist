{
 "cells": [
  {
   "cell_type": "markdown",
   "id": "9960ece8-56f3-499f-bac0-1096f516c445",
   "metadata": {},
   "source": [
    "# 入门｜深度学习实战1：使用Keras构建分类MLP（Kaggle-MNIST数据集）\n",
    "\n",
    "MNIST数据集来自美国国家标准与技术研究所收集的来自250个人的手写阿拉伯数字，对深度学习的地位相当于编程语言的HelloWorld，作为入门训练非常合适。\n",
    "\n",
    "所以正好拿来练手神经网络。\n",
    "\n",
    "因为是很常见的数据集，所以已经被包含在了许多机器学习库中，直接调用就行，但反正是练手就顺便做一下Kaggle，这次用的是Kaggle的MNIST。\n",
    "\n",
    "比赛链接：https://www.kaggle.com/c/digit-recognizer/overview\n",
    "\n",
    "原数据集是60000张28*28共784像素灰度图片的数据，每个像素有一个灰度数值0～255，数值越高颜色越深，这里已经划分成42000条的训练集，我们要预测的是测试集的28000条。\n",
    "\n",
    "训练集有785列，第1列为标签0～9代表数字，测试集只有784列。\n",
    "\n",
    "首先又是一个分类任务，这次是多分类（0～9），尝试用神经网络解决问题，意味着神经网络接受784个输入神经元，10个输出神经元。"
   ]
  },
  {
   "cell_type": "code",
   "execution_count": 1,
   "id": "537221a6-2b1d-48ba-85bf-410c1472a9b8",
   "metadata": {},
   "outputs": [],
   "source": [
    "# 所用到的库（去掉注释可安装）\n",
    "# !conda install matplotlib numpy pandas scikit-learn\n",
    "# !pip install tensorflow"
   ]
  },
  {
   "cell_type": "code",
   "execution_count": 2,
   "id": "282b0a87-e835-4ef6-9894-b3542bc5ceb1",
   "metadata": {},
   "outputs": [],
   "source": [
    "# 读取csv及提供数据分析方法\n",
    "import pandas as pd\n",
    "# 借助sklearn的StratifiedShuffleSplit进行分层抽样\n",
    "from sklearn.model_selection import StratifiedShuffleSplit\n",
    "# 导入keras\n",
    "from tensorflow import keras\n",
    "import numpy as np"
   ]
  },
  {
   "cell_type": "markdown",
   "id": "c0f4800e-d45e-4d41-ab75-e0dd3ff74280",
   "metadata": {},
   "source": [
    "## 数据准备"
   ]
  },
  {
   "cell_type": "code",
   "execution_count": 3,
   "id": "69f84ea0-d2fb-482d-8f39-5c941d6a20a6",
   "metadata": {},
   "outputs": [],
   "source": [
    "# 读取训练集\n",
    "data = pd.read_csv('train.csv')"
   ]
  },
  {
   "cell_type": "code",
   "execution_count": 4,
   "id": "c90e9e94-2be3-4ea8-9b30-ba697a6b1b60",
   "metadata": {},
   "outputs": [
    {
     "data": {
      "text/html": [
       "<div>\n",
       "<style scoped>\n",
       "    .dataframe tbody tr th:only-of-type {\n",
       "        vertical-align: middle;\n",
       "    }\n",
       "\n",
       "    .dataframe tbody tr th {\n",
       "        vertical-align: top;\n",
       "    }\n",
       "\n",
       "    .dataframe thead th {\n",
       "        text-align: right;\n",
       "    }\n",
       "</style>\n",
       "<table border=\"1\" class=\"dataframe\">\n",
       "  <thead>\n",
       "    <tr style=\"text-align: right;\">\n",
       "      <th></th>\n",
       "      <th>label</th>\n",
       "      <th>pixel0</th>\n",
       "      <th>pixel1</th>\n",
       "      <th>pixel2</th>\n",
       "      <th>pixel3</th>\n",
       "      <th>pixel4</th>\n",
       "      <th>pixel5</th>\n",
       "      <th>pixel6</th>\n",
       "      <th>pixel7</th>\n",
       "      <th>pixel8</th>\n",
       "      <th>...</th>\n",
       "      <th>pixel774</th>\n",
       "      <th>pixel775</th>\n",
       "      <th>pixel776</th>\n",
       "      <th>pixel777</th>\n",
       "      <th>pixel778</th>\n",
       "      <th>pixel779</th>\n",
       "      <th>pixel780</th>\n",
       "      <th>pixel781</th>\n",
       "      <th>pixel782</th>\n",
       "      <th>pixel783</th>\n",
       "    </tr>\n",
       "  </thead>\n",
       "  <tbody>\n",
       "    <tr>\n",
       "      <th>0</th>\n",
       "      <td>1</td>\n",
       "      <td>0</td>\n",
       "      <td>0</td>\n",
       "      <td>0</td>\n",
       "      <td>0</td>\n",
       "      <td>0</td>\n",
       "      <td>0</td>\n",
       "      <td>0</td>\n",
       "      <td>0</td>\n",
       "      <td>0</td>\n",
       "      <td>...</td>\n",
       "      <td>0</td>\n",
       "      <td>0</td>\n",
       "      <td>0</td>\n",
       "      <td>0</td>\n",
       "      <td>0</td>\n",
       "      <td>0</td>\n",
       "      <td>0</td>\n",
       "      <td>0</td>\n",
       "      <td>0</td>\n",
       "      <td>0</td>\n",
       "    </tr>\n",
       "    <tr>\n",
       "      <th>1</th>\n",
       "      <td>0</td>\n",
       "      <td>0</td>\n",
       "      <td>0</td>\n",
       "      <td>0</td>\n",
       "      <td>0</td>\n",
       "      <td>0</td>\n",
       "      <td>0</td>\n",
       "      <td>0</td>\n",
       "      <td>0</td>\n",
       "      <td>0</td>\n",
       "      <td>...</td>\n",
       "      <td>0</td>\n",
       "      <td>0</td>\n",
       "      <td>0</td>\n",
       "      <td>0</td>\n",
       "      <td>0</td>\n",
       "      <td>0</td>\n",
       "      <td>0</td>\n",
       "      <td>0</td>\n",
       "      <td>0</td>\n",
       "      <td>0</td>\n",
       "    </tr>\n",
       "    <tr>\n",
       "      <th>2</th>\n",
       "      <td>1</td>\n",
       "      <td>0</td>\n",
       "      <td>0</td>\n",
       "      <td>0</td>\n",
       "      <td>0</td>\n",
       "      <td>0</td>\n",
       "      <td>0</td>\n",
       "      <td>0</td>\n",
       "      <td>0</td>\n",
       "      <td>0</td>\n",
       "      <td>...</td>\n",
       "      <td>0</td>\n",
       "      <td>0</td>\n",
       "      <td>0</td>\n",
       "      <td>0</td>\n",
       "      <td>0</td>\n",
       "      <td>0</td>\n",
       "      <td>0</td>\n",
       "      <td>0</td>\n",
       "      <td>0</td>\n",
       "      <td>0</td>\n",
       "    </tr>\n",
       "    <tr>\n",
       "      <th>3</th>\n",
       "      <td>4</td>\n",
       "      <td>0</td>\n",
       "      <td>0</td>\n",
       "      <td>0</td>\n",
       "      <td>0</td>\n",
       "      <td>0</td>\n",
       "      <td>0</td>\n",
       "      <td>0</td>\n",
       "      <td>0</td>\n",
       "      <td>0</td>\n",
       "      <td>...</td>\n",
       "      <td>0</td>\n",
       "      <td>0</td>\n",
       "      <td>0</td>\n",
       "      <td>0</td>\n",
       "      <td>0</td>\n",
       "      <td>0</td>\n",
       "      <td>0</td>\n",
       "      <td>0</td>\n",
       "      <td>0</td>\n",
       "      <td>0</td>\n",
       "    </tr>\n",
       "    <tr>\n",
       "      <th>4</th>\n",
       "      <td>0</td>\n",
       "      <td>0</td>\n",
       "      <td>0</td>\n",
       "      <td>0</td>\n",
       "      <td>0</td>\n",
       "      <td>0</td>\n",
       "      <td>0</td>\n",
       "      <td>0</td>\n",
       "      <td>0</td>\n",
       "      <td>0</td>\n",
       "      <td>...</td>\n",
       "      <td>0</td>\n",
       "      <td>0</td>\n",
       "      <td>0</td>\n",
       "      <td>0</td>\n",
       "      <td>0</td>\n",
       "      <td>0</td>\n",
       "      <td>0</td>\n",
       "      <td>0</td>\n",
       "      <td>0</td>\n",
       "      <td>0</td>\n",
       "    </tr>\n",
       "  </tbody>\n",
       "</table>\n",
       "<p>5 rows × 785 columns</p>\n",
       "</div>"
      ],
      "text/plain": [
       "   label  pixel0  pixel1  pixel2  pixel3  pixel4  pixel5  pixel6  pixel7  \\\n",
       "0      1       0       0       0       0       0       0       0       0   \n",
       "1      0       0       0       0       0       0       0       0       0   \n",
       "2      1       0       0       0       0       0       0       0       0   \n",
       "3      4       0       0       0       0       0       0       0       0   \n",
       "4      0       0       0       0       0       0       0       0       0   \n",
       "\n",
       "   pixel8  ...  pixel774  pixel775  pixel776  pixel777  pixel778  pixel779  \\\n",
       "0       0  ...         0         0         0         0         0         0   \n",
       "1       0  ...         0         0         0         0         0         0   \n",
       "2       0  ...         0         0         0         0         0         0   \n",
       "3       0  ...         0         0         0         0         0         0   \n",
       "4       0  ...         0         0         0         0         0         0   \n",
       "\n",
       "   pixel780  pixel781  pixel782  pixel783  \n",
       "0         0         0         0         0  \n",
       "1         0         0         0         0  \n",
       "2         0         0         0         0  \n",
       "3         0         0         0         0  \n",
       "4         0         0         0         0  \n",
       "\n",
       "[5 rows x 785 columns]"
      ]
     },
     "execution_count": 4,
     "metadata": {},
     "output_type": "execute_result"
    }
   ],
   "source": [
    "# 大概看一下\n",
    "data.head()"
   ]
  },
  {
   "cell_type": "code",
   "execution_count": 5,
   "id": "bf86beb2-c34e-4dbf-9e02-9a2babdf9ebf",
   "metadata": {},
   "outputs": [
    {
     "data": {
      "text/plain": [
       "<AxesSubplot:>"
      ]
     },
     "execution_count": 5,
     "metadata": {},
     "output_type": "execute_result"
    },
    {
     "data": {
      "image/png": "[encoded data removed]",
      "text/plain": [
       "<Figure size 432x288 with 1 Axes>"
      ]
     },
     "metadata": {
      "needs_background": "light"
     },
     "output_type": "display_data"
    }
   ],
   "source": [
    "# 查看样本分布\n",
    "data['label'].hist()"
   ]
  },
  {
   "cell_type": "markdown",
   "id": "fd612706-7660-4d1a-a0e1-074b44516921",
   "metadata": {},
   "source": [
    "发现样本分布是不均的，所以创建验证集时候最好分层抽样。"
   ]
  },
  {
   "cell_type": "code",
   "execution_count": 6,
   "id": "04f51848-7910-4a02-b0ac-543e9e2075f3",
   "metadata": {},
   "outputs": [
    {
     "data": {
      "text/plain": [
       "1    0.111429\n",
       "7    0.104762\n",
       "3    0.103571\n",
       "9    0.099762\n",
       "2    0.099524\n",
       "6    0.098571\n",
       "0    0.098333\n",
       "4    0.096905\n",
       "8    0.096667\n",
       "5    0.090476\n",
       "Name: label, dtype: float64"
      ]
     },
     "execution_count": 6,
     "metadata": {},
     "output_type": "execute_result"
    }
   ],
   "source": [
    "# 使用StratifiedShuffleSplit类进行分层抽样\n",
    "split = StratifiedShuffleSplit(n_splits=1, test_size=0.1, random_state=42)\n",
    "\n",
    "# 按label属性进行划分并生成训练集和验证集\n",
    "for train_index, valid_index in split.split(data, data['label']):\n",
    "    train = data.loc[train_index]\n",
    "    valid = data.loc[valid_index]\n",
    "\n",
    "# 查看验证集的比例分布以检查是否如我们所料\n",
    "valid['label'].value_counts() / len(valid)"
   ]
  },
  {
   "cell_type": "code",
   "execution_count": 7,
   "id": "9fbc3384-112c-4190-8efc-af669568a411",
   "metadata": {},
   "outputs": [],
   "source": [
    "# 划分样本与标签\n",
    "train_X = train.drop(['label'], axis=1)\n",
    "train_Y = train['label']\n",
    "\n",
    "# 验证集也划分一下\n",
    "valid_X = valid.drop(['label'], axis=1)\n",
    "valid_Y = valid['label']"
   ]
  },
  {
   "cell_type": "markdown",
   "id": "856bff40-64f9-4a0d-ab12-e00cbb727dba",
   "metadata": {},
   "source": [
    "## 模型训练\n",
    "\n",
    "这里用的是最简单的顺序模型，第一层为输入层，设置input_shape为784。\n",
    "\n",
    "第二到七层为隐藏层，Dense是全连接层，使用relu作为激活函数。\n",
    "\n",
    "第八层为输出层，10个神经元对应10个标签进行输出，使用softmax作为激活函数，因为这里的每一个输出都是排它的，softmax为归一化指数函数，它能凸显原始向量中最大的值并抑制远低于最大值的其它分量。"
   ]
  },
  {
   "cell_type": "code",
   "execution_count": 8,
   "id": "7d262a14-b45e-4b21-a9cf-671710206126",
   "metadata": {},
   "outputs": [
    {
     "name": "stderr",
     "output_type": "stream",
     "text": [
      "2022-01-19 21:42:47.004612: I tensorflow/stream_executor/cuda/cuda_gpu_executor.cc:939] successful NUMA node read from SysFS had negative value (-1), but there must be at least one NUMA node, so returning NUMA node zero\n",
      "2022-01-19 21:42:47.008455: I tensorflow/stream_executor/cuda/cuda_gpu_executor.cc:939] successful NUMA node read from SysFS had negative value (-1), but there must be at least one NUMA node, so returning NUMA node zero\n",
      "2022-01-19 21:42:47.008897: I tensorflow/stream_executor/cuda/cuda_gpu_executor.cc:939] successful NUMA node read from SysFS had negative value (-1), but there must be at least one NUMA node, so returning NUMA node zero\n",
      "2022-01-19 21:42:47.009705: I tensorflow/core/platform/cpu_feature_guard.cc:151] This TensorFlow binary is optimized with oneAPI Deep Neural Network Library (oneDNN) to use the following CPU instructions in performance-critical operations:  AVX2 AVX512F FMA\n",
      "To enable them in other operations, rebuild TensorFlow with the appropriate compiler flags.\n",
      "2022-01-19 21:42:47.010140: I tensorflow/stream_executor/cuda/cuda_gpu_executor.cc:939] successful NUMA node read from SysFS had negative value (-1), but there must be at least one NUMA node, so returning NUMA node zero\n",
      "2022-01-19 21:42:47.010590: I tensorflow/stream_executor/cuda/cuda_gpu_executor.cc:939] successful NUMA node read from SysFS had negative value (-1), but there must be at least one NUMA node, so returning NUMA node zero\n",
      "2022-01-19 21:42:47.011022: I tensorflow/stream_executor/cuda/cuda_gpu_executor.cc:939] successful NUMA node read from SysFS had negative value (-1), but there must be at least one NUMA node, so returning NUMA node zero\n",
      "2022-01-19 21:42:47.234107: I tensorflow/stream_executor/cuda/cuda_gpu_executor.cc:939] successful NUMA node read from SysFS had negative value (-1), but there must be at least one NUMA node, so returning NUMA node zero\n",
      "2022-01-19 21:42:47.234553: I tensorflow/stream_executor/cuda/cuda_gpu_executor.cc:939] successful NUMA node read from SysFS had negative value (-1), but there must be at least one NUMA node, so returning NUMA node zero\n",
      "2022-01-19 21:42:47.234956: I tensorflow/stream_executor/cuda/cuda_gpu_executor.cc:939] successful NUMA node read from SysFS had negative value (-1), but there must be at least one NUMA node, so returning NUMA node zero\n",
      "2022-01-19 21:42:47.235348: I tensorflow/core/common_runtime/gpu/gpu_device.cc:1525] Created device /job:localhost/replica:0/task:0/device:GPU:0 with 10231 MB memory:  -> device: 0, name: NVIDIA GeForce RTX 3060, pci bus id: 0000:01:00.0, compute capability: 8.6\n"
     ]
    }
   ],
   "source": [
    "# 构建模型\n",
    "model = keras.models.Sequential([\n",
    "    keras.layers.InputLayer(input_shape=[784]),\n",
    "    keras.layers.Dense(300, activation='relu'),\n",
    "    keras.layers.Dense(600, activation='relu'),\n",
    "    keras.layers.Dense(900, activation='relu'),\n",
    "    keras.layers.Dense(1200, activation='relu'),\n",
    "    keras.layers.Dense(300, activation='relu'),\n",
    "    keras.layers.Dense(100, activation='relu'),\n",
    "    keras.layers.Dense(10, activation='softmax')\n",
    "])"
   ]
  },
  {
   "cell_type": "code",
   "execution_count": 9,
   "id": "10fb7129-f0bc-4d00-b19b-26e0522f3212",
   "metadata": {},
   "outputs": [],
   "source": [
    "# 编译模型\n",
    "model.compile(\n",
    "    loss='sparse_categorical_crossentropy',\n",
    "    optimizer=keras.optimizers.SGD(learning_rate=0.0001),\n",
    "    metrics=['accuracy']\n",
    ")"
   ]
  },
  {
   "cell_type": "code",
   "execution_count": 10,
   "id": "7dffc93c-8d18-4484-85f6-f1bbb2b714db",
   "metadata": {},
   "outputs": [
    {
     "name": "stdout",
     "output_type": "stream",
     "text": [
      "Epoch 1/29\n",
      " 145/1182 [==>...........................] - ETA: 1s - loss: 3.6352 - accuracy: 0.5192"
     ]
    },
    {
     "name": "stderr",
     "output_type": "stream",
     "text": [
      "2022-01-19 21:42:48.125946: I tensorflow/stream_executor/cuda/cuda_blas.cc:1774] TensorFloat-32 will be used for the matrix multiplication. This will only be logged once.\n"
     ]
    },
    {
     "name": "stdout",
     "output_type": "stream",
     "text": [
      "1182/1182 [==============================] - 2s 1ms/step - loss: 1.2219 - accuracy: 0.7667 - val_loss: 0.6152 - val_accuracy: 0.8498\n",
      "Epoch 2/29\n",
      "1182/1182 [==============================] - 1s 1ms/step - loss: 0.4454 - accuracy: 0.8815 - val_loss: 0.4396 - val_accuracy: 0.8833\n",
      "Epoch 3/29\n",
      "1182/1182 [==============================] - 1s 1ms/step - loss: 0.3184 - accuracy: 0.9103 - val_loss: 0.3808 - val_accuracy: 0.8981\n",
      "Epoch 4/29\n",
      "1182/1182 [==============================] - 1s 1ms/step - loss: 0.2479 - accuracy: 0.9284 - val_loss: 0.3434 - val_accuracy: 0.9098\n",
      "Epoch 5/29\n",
      "1182/1182 [==============================] - 1s 1ms/step - loss: 0.2016 - accuracy: 0.9416 - val_loss: 0.3448 - val_accuracy: 0.9098\n",
      "Epoch 6/29\n",
      "1182/1182 [==============================] - 1s 1ms/step - loss: 0.1691 - accuracy: 0.9510 - val_loss: 0.3163 - val_accuracy: 0.9162\n",
      "Epoch 7/29\n",
      "1182/1182 [==============================] - 1s 1ms/step - loss: 0.1432 - accuracy: 0.9587 - val_loss: 0.3042 - val_accuracy: 0.9181\n",
      "Epoch 8/29\n",
      "1182/1182 [==============================] - 1s 1ms/step - loss: 0.1222 - accuracy: 0.9648 - val_loss: 0.3124 - val_accuracy: 0.9129\n",
      "Epoch 9/29\n",
      "1182/1182 [==============================] - 1s 1ms/step - loss: 0.1056 - accuracy: 0.9697 - val_loss: 0.2829 - val_accuracy: 0.9243\n",
      "Epoch 10/29\n",
      "1182/1182 [==============================] - 1s 1ms/step - loss: 0.0916 - accuracy: 0.9748 - val_loss: 0.2804 - val_accuracy: 0.9252\n",
      "Epoch 11/29\n",
      "1182/1182 [==============================] - 1s 1ms/step - loss: 0.0808 - accuracy: 0.9778 - val_loss: 0.2780 - val_accuracy: 0.9274\n",
      "Epoch 12/29\n",
      "1182/1182 [==============================] - 1s 1ms/step - loss: 0.0715 - accuracy: 0.9814 - val_loss: 0.2720 - val_accuracy: 0.9252\n",
      "Epoch 13/29\n",
      "1182/1182 [==============================] - 1s 1ms/step - loss: 0.0629 - accuracy: 0.9846 - val_loss: 0.2727 - val_accuracy: 0.9283\n",
      "Epoch 14/29\n",
      "1182/1182 [==============================] - 1s 1ms/step - loss: 0.0553 - accuracy: 0.9869 - val_loss: 0.2684 - val_accuracy: 0.9305\n",
      "Epoch 15/29\n",
      "1182/1182 [==============================] - 1s 1ms/step - loss: 0.0495 - accuracy: 0.9891 - val_loss: 0.2625 - val_accuracy: 0.9300\n",
      "Epoch 16/29\n",
      "1182/1182 [==============================] - 1s 1ms/step - loss: 0.0441 - accuracy: 0.9903 - val_loss: 0.2648 - val_accuracy: 0.9288\n",
      "Epoch 17/29\n",
      "1182/1182 [==============================] - 1s 1ms/step - loss: 0.0398 - accuracy: 0.9924 - val_loss: 0.2621 - val_accuracy: 0.9307\n",
      "Epoch 18/29\n",
      "1182/1182 [==============================] - 1s 1ms/step - loss: 0.0358 - accuracy: 0.9937 - val_loss: 0.2619 - val_accuracy: 0.9310\n",
      "Epoch 19/29\n",
      "1182/1182 [==============================] - 1s 1ms/step - loss: 0.0323 - accuracy: 0.9947 - val_loss: 0.2576 - val_accuracy: 0.9340\n",
      "Epoch 20/29\n",
      "1182/1182 [==============================] - 1s 1ms/step - loss: 0.0294 - accuracy: 0.9954 - val_loss: 0.2579 - val_accuracy: 0.9345\n",
      "Epoch 21/29\n",
      "1182/1182 [==============================] - 1s 1ms/step - loss: 0.0269 - accuracy: 0.9966 - val_loss: 0.2556 - val_accuracy: 0.9331\n",
      "Epoch 22/29\n",
      "1182/1182 [==============================] - 1s 1ms/step - loss: 0.0247 - accuracy: 0.9972 - val_loss: 0.2532 - val_accuracy: 0.9329\n",
      "Epoch 23/29\n",
      "1182/1182 [==============================] - 1s 1ms/step - loss: 0.0226 - accuracy: 0.9977 - val_loss: 0.2521 - val_accuracy: 0.9333\n",
      "Epoch 24/29\n",
      "1182/1182 [==============================] - 1s 1ms/step - loss: 0.0209 - accuracy: 0.9981 - val_loss: 0.2537 - val_accuracy: 0.9329\n",
      "Epoch 25/29\n",
      "1182/1182 [==============================] - 1s 1ms/step - loss: 0.0195 - accuracy: 0.9984 - val_loss: 0.2501 - val_accuracy: 0.9352\n",
      "Epoch 26/29\n",
      "1182/1182 [==============================] - 1s 1ms/step - loss: 0.0180 - accuracy: 0.9985 - val_loss: 0.2499 - val_accuracy: 0.9360\n",
      "Epoch 27/29\n",
      "1182/1182 [==============================] - 1s 1ms/step - loss: 0.0168 - accuracy: 0.9988 - val_loss: 0.2479 - val_accuracy: 0.9374\n",
      "Epoch 28/29\n",
      "1182/1182 [==============================] - 1s 1ms/step - loss: 0.0158 - accuracy: 0.9991 - val_loss: 0.2504 - val_accuracy: 0.9376\n",
      "Epoch 29/29\n",
      "1182/1182 [==============================] - 1s 1ms/step - loss: 0.0148 - accuracy: 0.9992 - val_loss: 0.2481 - val_accuracy: 0.9364\n"
     ]
    }
   ],
   "source": [
    "history = model.fit(train_X, train_Y, epochs=29,\n",
    "                    validation_data=(valid_X, valid_Y))"
   ]
  },
  {
   "cell_type": "code",
   "execution_count": 11,
   "id": "f2b49afa-ee6f-40f3-9328-d098a657b854",
   "metadata": {},
   "outputs": [],
   "source": [
    "# 读取测试集\n",
    "test = pd.read_csv('test.csv')\n",
    "\n",
    "# 进行预测\n",
    "results = model.predict(test)"
   ]
  },
  {
   "cell_type": "code",
   "execution_count": 12,
   "id": "1a3ea62a-7baa-4854-9d37-26fd44e63a9c",
   "metadata": {},
   "outputs": [],
   "source": [
    "# 转换格式\n",
    "results = np.argmax(results, axis=1)\n",
    "results = pd.Series(results, name='Label')\n",
    "\n",
    "# 生成预测文件\n",
    "submission = pd.concat([pd.Series(range(1, 28001), name=\"ImageId\"), results],\n",
    "                       axis=1)\n",
    "submission.to_csv('submission.csv', index=False)"
   ]
  },
  {
   "cell_type": "markdown",
   "id": "a62327fd-b2d4-41c3-bd32-eaaf8742e73c",
   "metadata": {},
   "source": [
    "## 提交结果\n",
    "\n",
    "第一次是2个隐藏层（300x100），学习率0.001，训练29轮，最终提交准确率0.94942。\n",
    "\n",
    "第二次加了4层，总共300x600x900x1200x300x100，学习率和轮次不变，最终0.95835，排名1515。\n",
    "\n",
    "## 总结\n",
    "\n",
    "层数、神经元、学习率、轮次等等超参还有很多可以调整的地方，还有batch size在这没有调用的都是默认设置。\n",
    "\n",
    "这次问题主要出在过拟合，其实应该绘制学习曲线来帮忙找到最合适的超参，作为第一次尝试先到这，MLP能到95%准确率可能也差不多了。"
   ]
  }
 ],
 "metadata": {
  "kernelspec": {
   "display_name": "tensorflow-2.7",
   "language": "python",
   "name": "tensorflow-2.7"
  },
  "language_info": {
   "codemirror_mode": {
    "name": "ipython",
    "version": 3
   },
   "file_extension": ".py",
   "mimetype": "text/x-python",
   "name": "python",
   "nbconvert_exporter": "python",
   "pygments_lexer": "ipython3",
   "version": "3.9.7"
  }
 },
 "nbformat": 4,
 "nbformat_minor": 5
}
