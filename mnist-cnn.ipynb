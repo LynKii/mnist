{
 "cells": [
  {
   "cell_type": "markdown",
   "id": "b57d5e5b-f83f-44cb-b94a-91c55aa302f9",
   "metadata": {},
   "source": [
    "## 构建CNN完成Kaggle的MNIST"
   ]
  },
  {
   "cell_type": "code",
   "execution_count": 1,
   "id": "895c989f-da2c-4160-b2d9-c224715c8b9c",
   "metadata": {},
   "outputs": [],
   "source": [
    "import pandas as pd\n",
    "# 用于分层抽样创建验证集\n",
    "from sklearn.model_selection import StratifiedShuffleSplit\n",
    "from tensorflow import keras\n",
    "# 预处理数据集\n",
    "import tensorflow as tf\n",
    "import numpy as np"
   ]
  },
  {
   "cell_type": "code",
   "execution_count": 2,
   "id": "a0ed9bcc-21af-4031-a3a0-d3ff0f8e4855",
   "metadata": {},
   "outputs": [],
   "source": [
    "# 用于训练的总数据集data\n",
    "data = pd.read_csv('train.csv')\n",
    "\n",
    "# 测试集\n",
    "test = pd.read_csv('test.csv')"
   ]
  },
  {
   "cell_type": "code",
   "execution_count": 3,
   "id": "b75c4284-8ac1-4030-bbe3-cb569f2f3c84",
   "metadata": {},
   "outputs": [],
   "source": [
    "# 使用StratifiedShuffleSplit类进行分层抽样\n",
    "split = StratifiedShuffleSplit(n_splits=1, test_size=0.1, random_state=42)\n",
    "\n",
    "# 按label属性进行划分并生成训练集和验证集\n",
    "for train_index, valid_index in split.split(data, data['label']):\n",
    "    train = data.loc[train_index]\n",
    "    valid = data.loc[valid_index]\n",
    "\n",
    "# 划分样本与标签\n",
    "train_X = train.drop(['label'], axis=1)\n",
    "train_Y = train['label']\n",
    "\n",
    "# 验证集也划分一下\n",
    "valid_X = valid.drop(['label'], axis=1)\n",
    "valid_Y = valid['label']"
   ]
  },
  {
   "cell_type": "code",
   "execution_count": 4,
   "id": "73153a3f-7efe-4651-89cb-97d7d8f19a52",
   "metadata": {},
   "outputs": [
    {
     "name": "stderr",
     "output_type": "stream",
     "text": [
      "2022-02-12 17:46:01.356335: I tensorflow/stream_executor/cuda/cuda_gpu_executor.cc:939] successful NUMA node read from SysFS had negative value (-1), but there must be at least one NUMA node, so returning NUMA node zero\n",
      "2022-02-12 17:46:01.360122: I tensorflow/stream_executor/cuda/cuda_gpu_executor.cc:939] successful NUMA node read from SysFS had negative value (-1), but there must be at least one NUMA node, so returning NUMA node zero\n",
      "2022-02-12 17:46:01.360555: I tensorflow/stream_executor/cuda/cuda_gpu_executor.cc:939] successful NUMA node read from SysFS had negative value (-1), but there must be at least one NUMA node, so returning NUMA node zero\n",
      "2022-02-12 17:46:01.361397: I tensorflow/core/platform/cpu_feature_guard.cc:151] This TensorFlow binary is optimized with oneAPI Deep Neural Network Library (oneDNN) to use the following CPU instructions in performance-critical operations:  AVX2 AVX512F FMA\n",
      "To enable them in other operations, rebuild TensorFlow with the appropriate compiler flags.\n",
      "2022-02-12 17:46:01.361993: I tensorflow/stream_executor/cuda/cuda_gpu_executor.cc:939] successful NUMA node read from SysFS had negative value (-1), but there must be at least one NUMA node, so returning NUMA node zero\n",
      "2022-02-12 17:46:01.362495: I tensorflow/stream_executor/cuda/cuda_gpu_executor.cc:939] successful NUMA node read from SysFS had negative value (-1), but there must be at least one NUMA node, so returning NUMA node zero\n",
      "2022-02-12 17:46:01.362922: I tensorflow/stream_executor/cuda/cuda_gpu_executor.cc:939] successful NUMA node read from SysFS had negative value (-1), but there must be at least one NUMA node, so returning NUMA node zero\n",
      "2022-02-12 17:46:01.586069: I tensorflow/stream_executor/cuda/cuda_gpu_executor.cc:939] successful NUMA node read from SysFS had negative value (-1), but there must be at least one NUMA node, so returning NUMA node zero\n",
      "2022-02-12 17:46:01.586505: I tensorflow/stream_executor/cuda/cuda_gpu_executor.cc:939] successful NUMA node read from SysFS had negative value (-1), but there must be at least one NUMA node, so returning NUMA node zero\n",
      "2022-02-12 17:46:01.586896: I tensorflow/stream_executor/cuda/cuda_gpu_executor.cc:939] successful NUMA node read from SysFS had negative value (-1), but there must be at least one NUMA node, so returning NUMA node zero\n",
      "2022-02-12 17:46:01.587283: I tensorflow/core/common_runtime/gpu/gpu_device.cc:1525] Created device /job:localhost/replica:0/task:0/device:GPU:0 with 10246 MB memory:  -> device: 0, name: NVIDIA GeForce RTX 3060, pci bus id: 0000:01:00.0, compute capability: 8.6\n"
     ]
    }
   ],
   "source": [
    "# 预处理数据集使其维度匹配\n",
    "train_X = tf.reshape(train_X, [-1, 28, 28, 1])\n",
    "valid_X = tf.reshape(valid_X, [-1, 28, 28, 1])\n",
    "\n",
    "test = tf.reshape(test, [-1, 28, 28, 1])"
   ]
  },
  {
   "cell_type": "code",
   "execution_count": 5,
   "id": "c8ad187e-7d7d-460b-b9f0-ba8e55460a69",
   "metadata": {},
   "outputs": [],
   "source": [
    "# 构建模型\n",
    "model = keras.models.Sequential([\n",
    "    keras.layers.Conv2D(64, 7, activation='relu', padding='same',\n",
    "                        input_shape=[28, 28, 1]),\n",
    "    keras.layers.MaxPooling2D(2),\n",
    "    keras.layers.Conv2D(128, 3, activation='relu', padding='same'),\n",
    "    keras.layers.Conv2D(128, 3, activation='relu', padding='same'),\n",
    "    keras.layers.MaxPooling2D(2),\n",
    "    keras.layers.Conv2D(256, 3, activation='relu', padding='same'),\n",
    "    keras.layers.Conv2D(256, 3, activation='relu', padding='same'),\n",
    "    keras.layers.MaxPooling2D(2),\n",
    "    keras.layers.Flatten(),\n",
    "    keras.layers.Dense(128, activation='relu'),\n",
    "    keras.layers.Dropout(0.5),\n",
    "    keras.layers.Dense(64, activation='relu'),\n",
    "    keras.layers.Dropout(0.5),\n",
    "    keras.layers.Dense(10, activation='softmax')\n",
    "])"
   ]
  },
  {
   "cell_type": "code",
   "execution_count": 6,
   "id": "1b7b8249-c95a-4faf-a115-21c85b2b7250",
   "metadata": {},
   "outputs": [],
   "source": [
    "# 编译模型\n",
    "model.compile(\n",
    "    loss='sparse_categorical_crossentropy',\n",
    "    optimizer=keras.optimizers.Adam(learning_rate=0.0001),\n",
    "    metrics=['accuracy']\n",
    ")"
   ]
  },
  {
   "cell_type": "code",
   "execution_count": 7,
   "id": "9966daab-285c-45cd-8426-6b6af774f3d4",
   "metadata": {},
   "outputs": [
    {
     "name": "stdout",
     "output_type": "stream",
     "text": [
      "Epoch 1/30\n"
     ]
    },
    {
     "name": "stderr",
     "output_type": "stream",
     "text": [
      "2022-02-12 17:46:02.727166: I tensorflow/stream_executor/cuda/cuda_dnn.cc:366] Loaded cuDNN version 8204\n",
      "2022-02-12 17:46:03.739025: I tensorflow/stream_executor/cuda/cuda_blas.cc:1774] TensorFloat-32 will be used for the matrix multiplication. This will only be logged once.\n"
     ]
    },
    {
     "name": "stdout",
     "output_type": "stream",
     "text": [
      "1182/1182 [==============================] - 9s 6ms/step - loss: 1.0950 - accuracy: 0.6353 - val_loss: 0.1242 - val_accuracy: 0.9676\n",
      "Epoch 2/30\n",
      "1182/1182 [==============================] - 9s 7ms/step - loss: 0.3637 - accuracy: 0.8867 - val_loss: 0.0806 - val_accuracy: 0.9802\n",
      "Epoch 3/30\n",
      "1182/1182 [==============================] - 8s 7ms/step - loss: 0.2204 - accuracy: 0.9365 - val_loss: 0.0736 - val_accuracy: 0.9833\n",
      "Epoch 4/30\n",
      "1182/1182 [==============================] - 9s 8ms/step - loss: 0.1555 - accuracy: 0.9554 - val_loss: 0.0647 - val_accuracy: 0.9860\n",
      "Epoch 5/30\n",
      "1182/1182 [==============================] - 9s 7ms/step - loss: 0.1261 - accuracy: 0.9657 - val_loss: 0.0645 - val_accuracy: 0.9874\n",
      "Epoch 6/30\n",
      "1182/1182 [==============================] - 8s 7ms/step - loss: 0.1000 - accuracy: 0.9731 - val_loss: 0.0568 - val_accuracy: 0.9890\n",
      "Epoch 7/30\n",
      "1182/1182 [==============================] - 8s 7ms/step - loss: 0.0829 - accuracy: 0.9763 - val_loss: 0.0615 - val_accuracy: 0.9879\n",
      "Epoch 8/30\n",
      "1182/1182 [==============================] - 9s 8ms/step - loss: 0.0759 - accuracy: 0.9796 - val_loss: 0.0601 - val_accuracy: 0.9890\n",
      "Epoch 9/30\n",
      "1182/1182 [==============================] - 7s 6ms/step - loss: 0.0600 - accuracy: 0.9842 - val_loss: 0.0692 - val_accuracy: 0.9855\n",
      "Epoch 10/30\n",
      "1182/1182 [==============================] - 8s 7ms/step - loss: 0.0553 - accuracy: 0.9856 - val_loss: 0.0564 - val_accuracy: 0.9862\n",
      "Epoch 11/30\n",
      "1182/1182 [==============================] - 7s 6ms/step - loss: 0.0510 - accuracy: 0.9858 - val_loss: 0.0519 - val_accuracy: 0.9907\n",
      "Epoch 12/30\n",
      "1182/1182 [==============================] - 6s 5ms/step - loss: 0.0407 - accuracy: 0.9889 - val_loss: 0.0512 - val_accuracy: 0.9905\n",
      "Epoch 13/30\n",
      "1182/1182 [==============================] - 6s 5ms/step - loss: 0.0365 - accuracy: 0.9896 - val_loss: 0.0625 - val_accuracy: 0.9907\n",
      "Epoch 14/30\n",
      "1182/1182 [==============================] - 6s 5ms/step - loss: 0.0404 - accuracy: 0.9896 - val_loss: 0.0617 - val_accuracy: 0.9905\n",
      "Epoch 15/30\n",
      "1182/1182 [==============================] - 10s 8ms/step - loss: 0.0304 - accuracy: 0.9920 - val_loss: 0.0752 - val_accuracy: 0.9910\n",
      "Epoch 16/30\n",
      "1182/1182 [==============================] - 11s 9ms/step - loss: 0.0319 - accuracy: 0.9915 - val_loss: 0.0741 - val_accuracy: 0.9895\n",
      "Epoch 17/30\n",
      "1182/1182 [==============================] - 6s 5ms/step - loss: 0.0275 - accuracy: 0.9931 - val_loss: 0.0766 - val_accuracy: 0.9907\n",
      "Epoch 18/30\n",
      "1182/1182 [==============================] - 9s 7ms/step - loss: 0.0259 - accuracy: 0.9937 - val_loss: 0.0600 - val_accuracy: 0.9910\n",
      "Epoch 19/30\n",
      "1182/1182 [==============================] - 7s 6ms/step - loss: 0.0242 - accuracy: 0.9939 - val_loss: 0.0675 - val_accuracy: 0.9912\n",
      "Epoch 20/30\n",
      "1182/1182 [==============================] - 8s 7ms/step - loss: 0.0222 - accuracy: 0.9937 - val_loss: 0.0794 - val_accuracy: 0.9912\n",
      "Epoch 21/30\n",
      "1182/1182 [==============================] - 8s 7ms/step - loss: 0.0214 - accuracy: 0.9941 - val_loss: 0.0570 - val_accuracy: 0.9921\n",
      "Epoch 22/30\n",
      "1182/1182 [==============================] - 7s 6ms/step - loss: 0.0179 - accuracy: 0.9956 - val_loss: 0.0818 - val_accuracy: 0.9898\n",
      "Epoch 23/30\n",
      "1182/1182 [==============================] - 7s 6ms/step - loss: 0.0170 - accuracy: 0.9957 - val_loss: 0.0785 - val_accuracy: 0.9914\n",
      "Epoch 24/30\n",
      "1182/1182 [==============================] - 8s 6ms/step - loss: 0.0211 - accuracy: 0.9946 - val_loss: 0.0623 - val_accuracy: 0.9931\n",
      "Epoch 25/30\n",
      "1182/1182 [==============================] - 9s 8ms/step - loss: 0.0161 - accuracy: 0.9961 - val_loss: 0.0725 - val_accuracy: 0.9940\n",
      "Epoch 26/30\n",
      "1182/1182 [==============================] - 10s 8ms/step - loss: 0.0182 - accuracy: 0.9952 - val_loss: 0.0898 - val_accuracy: 0.9921\n",
      "Epoch 27/30\n",
      "1182/1182 [==============================] - 10s 9ms/step - loss: 0.0171 - accuracy: 0.9956 - val_loss: 0.0551 - val_accuracy: 0.9933\n",
      "Epoch 28/30\n",
      "1182/1182 [==============================] - 8s 7ms/step - loss: 0.0164 - accuracy: 0.9957 - val_loss: 0.0869 - val_accuracy: 0.9902\n",
      "Epoch 29/30\n",
      "1182/1182 [==============================] - 10s 8ms/step - loss: 0.0137 - accuracy: 0.9966 - val_loss: 0.0812 - val_accuracy: 0.9919\n",
      "Epoch 30/30\n",
      "1182/1182 [==============================] - 7s 6ms/step - loss: 0.0149 - accuracy: 0.9958 - val_loss: 0.1399 - val_accuracy: 0.9843\n"
     ]
    }
   ],
   "source": [
    "history = model.fit(train_X, train_Y, epochs=30,\n",
    "                    validation_data=(valid_X, valid_Y))"
   ]
  },
  {
   "cell_type": "code",
   "execution_count": 8,
   "id": "68ad93b2-34d3-4adb-a6fc-18fcfcbd80e3",
   "metadata": {},
   "outputs": [],
   "source": [
    "# 进行预测\n",
    "results = model.predict(test)\n",
    "\n",
    "# 转换格式\n",
    "results = np.argmax(results, axis=1)\n",
    "results = pd.Series(results, name='Label')\n",
    "\n",
    "# 生成预测文件\n",
    "submission = pd.concat([pd.Series(range(1, 28001), name=\"ImageId\"), results],\n",
    "                       axis=1)\n",
    "submission.to_csv('submit_cnn2.csv', index=False)"
   ]
  },
  {
   "cell_type": "code",
   "execution_count": 9,
   "id": "01efdcfb-d7cd-4932-8ce6-8f84e53b7b4d",
   "metadata": {},
   "outputs": [],
   "source": [
    "# 保存模型\n",
    "model.save('cnn2.h5')"
   ]
  },
  {
   "cell_type": "code",
   "execution_count": null,
   "id": "b68687ea-93b4-4c33-a747-af83f015186a",
   "metadata": {},
   "outputs": [],
   "source": []
  }
 ],
 "metadata": {
  "kernelspec": {
   "display_name": "tensorflow-2.7",
   "language": "python",
   "name": "tensorflow-2.7"
  },
  "language_info": {
   "codemirror_mode": {
    "name": "ipython",
    "version": 3
   },
   "file_extension": ".py",
   "mimetype": "text/x-python",
   "name": "python",
   "nbconvert_exporter": "python",
   "pygments_lexer": "ipython3",
   "version": "3.9.7"
  }
 },
 "nbformat": 4,
 "nbformat_minor": 5
}
